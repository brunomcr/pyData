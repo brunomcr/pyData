{
 "cells": [
  {
   "cell_type": "code",
   "execution_count": 1,
   "metadata": {},
   "outputs": [],
   "source": [
    "import pandas as pd\n",
    "import numpy as np\n",
    "from pyspark.sql import functions as F\n"
   ]
  },
  {
   "cell_type": "code",
   "execution_count": 2,
   "metadata": {},
   "outputs": [],
   "source": [
    "# Start Spark session\n",
    "from pyspark.sql import SparkSession\n",
    "from pyspark.sql.functions import *\n",
    "\n",
    "spark = SparkSession.builder \\\n",
    "    .appName(\"Silver Data Exploration\") \\\n",
    "    .config(\"spark.driver.memory\", \"8g\") \\\n",
    "    .config(\"spark.executor.memory\", \"8g\") \\\n",
    "    .config(\"spark.executor.cores\", \"4\") \\\n",
    "    .config(\"spark.default.parallelism\", \"12\") \\\n",
    "    .config(\"spark.sql.shuffle.partitions\", \"12\") \\\n",
    "    .config(\"spark.memory.fraction\", \"0.8\") \\\n",
    "    .config(\"spark.memory.storageFraction\", \"0.3\") \\\n",
    "    .config(\"spark.sql.files.maxPartitionBytes\", \"128m\") \\\n",
    "    .config(\"spark.sql.adaptive.enabled\", \"true\") \\\n",
    "    .config(\"spark.sql.adaptive.coalescePartitions.enabled\", \"true\") \\\n",
    "    .config(\"spark.sql.adaptive.skewJoin.enabled\", \"true\") \\\n",
    "    .config(\"spark.dynamicAllocation.enabled\", \"true\") \\\n",
    "    .config(\"spark.shuffle.service.enabled\", \"true\") \\\n",
    "    .config(\"spark.locality.wait\", \"0s\") \\\n",
    "    .getOrCreate()\n",
    "\n"
   ]
  },
  {
   "cell_type": "code",
   "execution_count": 6,
   "metadata": {},
   "outputs": [
    {
     "name": "stdout",
     "output_type": "stream",
     "text": [
      "+-------------+-----------------+---------------------+---------------------+----+-----+---+\n",
      "|timestamp    |price            |market_cap           |total_volume         |year|month|day|\n",
      "+-------------+-----------------+---------------------+---------------------+----+-----+---+\n",
      "|1740355537873|96221.55883939596|1.9083936974055684E12|1.563158446085855E10 |2025|2    |24 |\n",
      "|1740355906059|96480.92770254097|1.9083936974055684E12|1.771748910737594E10 |2025|2    |24 |\n",
      "|1740356207393|96458.6475277336 |1.9083936974055684E12|1.3561980045231249E10|2025|2    |24 |\n",
      "|1740356438173|96356.52568488687|1.9110833469477192E12|1.6187084507414503E10|2025|2    |24 |\n",
      "|1740356778287|96408.36100518158|1.9109748479960166E12|1.4687156118955452E10|2025|2    |24 |\n",
      "|1740357097087|96390.21645628785|1.9123686486368752E12|1.6429408697221909E10|2025|2    |24 |\n",
      "|1740357412101|96251.1123703611 |1.9095710802652363E12|1.6453226993530008E10|2025|2    |24 |\n",
      "+-------------+-----------------+---------------------+---------------------+----+-----+---+\n",
      "\n"
     ]
    }
   ],
   "source": [
    "btc = spark.read \\\n",
    "    .option(\"mergeSchema\", \"false\") \\\n",
    "    .parquet(\"/app/data/bronze/bitcoin_data/\") \\\n",
    "    .coalesce(2)\n",
    "\n",
    "btc.show(20,truncate=False)"
   ]
  },
  {
   "cell_type": "code",
   "execution_count": null,
   "metadata": {},
   "outputs": [],
   "source": []
  }
 ],
 "metadata": {
  "kernelspec": {
   "display_name": "Python 3 (ipykernel)",
   "language": "python",
   "name": "python3"
  },
  "language_info": {
   "codemirror_mode": {
    "name": "ipython",
    "version": 3
   },
   "file_extension": ".py",
   "mimetype": "text/x-python",
   "name": "python",
   "nbconvert_exporter": "python",
   "pygments_lexer": "ipython3",
   "version": "3.11.6"
  }
 },
 "nbformat": 4,
 "nbformat_minor": 4
}
